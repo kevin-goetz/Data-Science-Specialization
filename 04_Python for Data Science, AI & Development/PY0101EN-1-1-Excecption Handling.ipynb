{
 "cells": [
  {
   "cell_type": "markdown",
   "source": [
    "<center>\n",
    "    <img src=\"https://gitlab.com/ibm/skills-network/courses/placeholder101/-/raw/master/labs/module%201/images/IDSNlogo.png\" width=\"300\" alt=\"cognitiveclass.ai logo\"  />\n",
    "</center>\n"
   ],
   "metadata": {}
  },
  {
   "cell_type": "markdown",
   "source": [
    "# **Exception Handling**\n",
    "\n",
    "Estimated time needed: **15** minutes\n",
    "\n",
    "## Objectives\n",
    "\n",
    "After completing this lab you will be able to:\n",
    "\n",
    "-   Understand exceptions    \n",
    "-   Handle the exceptions\n"
   ],
   "metadata": {}
  },
  {
   "cell_type": "markdown",
   "source": [
    "## Table of Contents\n"
   ],
   "metadata": {}
  },
  {
   "cell_type": "markdown",
   "source": [
    "-   What is an Exception?\n",
    "-   Exception Handling\n"
   ],
   "metadata": {}
  },
  {
   "cell_type": "markdown",
   "source": [
    "* * *\n"
   ],
   "metadata": {}
  },
  {
   "cell_type": "markdown",
   "source": [
    "## What is an Exception?\n"
   ],
   "metadata": {}
  },
  {
   "cell_type": "markdown",
   "source": [
    "In this section you will learn about what an exception is and see examples of them.\n"
   ],
   "metadata": {}
  },
  {
   "cell_type": "markdown",
   "source": [
    "### Definition\n"
   ],
   "metadata": {}
  },
  {
   "cell_type": "markdown",
   "source": [
    "An exception is an error that occurs during the execution of code. This error causes the code to raise an exception and if not prepared to handle it will halt the execution of the code.\n"
   ],
   "metadata": {}
  },
  {
   "cell_type": "markdown",
   "source": [
    "### Examples\n"
   ],
   "metadata": {}
  },
  {
   "cell_type": "markdown",
   "source": [
    "Run each piece of code and observe the exception raised\n"
   ],
   "metadata": {}
  },
  {
   "cell_type": "code",
   "execution_count": null,
   "source": [
    "1/0"
   ],
   "outputs": [],
   "metadata": {}
  },
  {
   "cell_type": "markdown",
   "source": [
    "<code>ZeroDivisionError</code> occurs when you try to divide by zero.\n"
   ],
   "metadata": {}
  },
  {
   "cell_type": "code",
   "execution_count": null,
   "source": [
    "y = a + 5"
   ],
   "outputs": [],
   "metadata": {}
  },
  {
   "cell_type": "markdown",
   "source": [
    "<code>NameError</code> in this case means that you tried to use the variable a when it was not defined.\n"
   ],
   "metadata": {}
  },
  {
   "cell_type": "code",
   "execution_count": null,
   "source": [
    "a = [1, 2, 3]\r\n",
    "a[10]"
   ],
   "outputs": [],
   "metadata": {}
  },
  {
   "cell_type": "markdown",
   "source": [
    "<code>IndexError</code> in this case occurs when you try to access data from a list using an index that does not exist for this list.\n"
   ],
   "metadata": {}
  },
  {
   "cell_type": "markdown",
   "source": [
    "There are many more exceptions that are built into Python, here is a list of them [https://docs.python.org/3/library/exceptions.html](https://docs.python.org/3/library/exceptions.html?cm_mmc=Email_Newsletter-_-Developer_Ed%2BTech-_-WW_WW-_-SkillsNetwork-Courses-IBMDeveloperSkillsNetwork-PY0101EN-SkillsNetwork-19487395&cm_mmca1=000026UJ&cm_mmca2=10006555&cm_mmca3=M12345678&cvosrc=email.Newsletter.M12345678&cvo_campaign=000026UJ&cm_mmc=Email_Newsletter-_-Developer_Ed%2BTech-_-WW_WW-_-SkillsNetwork-Courses-IBMDeveloperSkillsNetwork-PY0101EN-SkillsNetwork-19487395&cm_mmca1=000026UJ&cm_mmca2=10006555&cm_mmca3=M12345678&cvosrc=email.Newsletter.M12345678&cvo_campaign=000026UJ)\n"
   ],
   "metadata": {}
  },
  {
   "cell_type": "markdown",
   "source": [
    "## Exception Handling\n"
   ],
   "metadata": {}
  },
  {
   "cell_type": "markdown",
   "source": [
    "In this section you will learn how to handle exceptions to perform certain tasks and not halt the execution of your code.\n"
   ],
   "metadata": {}
  },
  {
   "cell_type": "markdown",
   "source": [
    "### Try Except\n"
   ],
   "metadata": {}
  },
  {
   "cell_type": "markdown",
   "source": [
    "A <code>try except</code> will allow you to execute code that might raise an exception and in the case of any exception or a specific one we can handle or catch the exception and execute specific code. This will allow us to continue the execution of our program even if there is an exception.\n",
    "\n",
    "Python tries to execute the code in the <code>try</code> block. In this case if there is any exception raised by the code in the <code>try</code> block it will be caught and the code block in the <code>except</code> block will be executed. After the code that comes after the try except will be executed.\n"
   ],
   "metadata": {}
  },
  {
   "cell_type": "code",
   "execution_count": null,
   "source": [
    "# potential code before try catch\r\n",
    "\r\n",
    "try:\r\n",
    "    # code to try to execute\r\n",
    "except:\r\n",
    "    # code to execute if there is an exception\r\n",
    "    \r\n",
    "# code that will still execute if there is an exception"
   ],
   "outputs": [],
   "metadata": {}
  },
  {
   "cell_type": "markdown",
   "source": [
    "### Try Except Example\n"
   ],
   "metadata": {}
  },
  {
   "cell_type": "markdown",
   "source": [
    "In this example we are trying to divide a  number given by the user, save the outcome in the variable <code>a</code>, and then we would like to print the result of the operation. When taking user input and dividing a number by it there are a couple of exceptions that can be raised. For example if we divide by zero, try running the following block of code, with <code>b</code> as a number an exception will only be Raised if <code>b</code>, is zero \n"
   ],
   "metadata": {}
  },
  {
   "cell_type": "code",
   "execution_count": 6,
   "source": [
    "a = 1\r\n",
    "\r\n",
    "try:\r\n",
    "    b = int(input(\"Please enter a number to divide a\"))\r\n",
    "    a = a/b\r\n",
    "    print(\"Success a=\",a)\r\n",
    "except:\r\n",
    "    print(\"There was an error\")\r\n",
    "        \r\n"
   ],
   "outputs": [
    {
     "output_type": "stream",
     "name": "stdout",
     "text": [
      "There was an error\n"
     ]
    }
   ],
   "metadata": {}
  },
  {
   "cell_type": "markdown",
   "source": [
    "### Try Except Specific\n"
   ],
   "metadata": {}
  },
  {
   "cell_type": "markdown",
   "source": [
    "A specific try except allows you to catch certain exceptions and also execute certain code depending on the exception. This is useful if you do not want to deal with some exceptions and the execution should halt, it can also help you find errors in your code that you might not  know about, and it can help you differentiate responses to different exceptions. In this case the code after the try except might not run depending on the error.\n"
   ],
   "metadata": {}
  },
  {
   "cell_type": "markdown",
   "source": [
    "<b>do not run, just to illustrate</b>\n"
   ],
   "metadata": {}
  },
  {
   "cell_type": "code",
   "execution_count": null,
   "source": [
    "# potential code before try catch\r\n",
    "\r\n",
    "try:\r\n",
    "    # code to try to execute\r\n",
    "except (ZeroDivisionError, NameError):\r\n",
    "    # code to execute if there is an exception of the given types\r\n",
    "    \r\n",
    "# code that will execute if there is no exception or a one that we are handling"
   ],
   "outputs": [],
   "metadata": {}
  },
  {
   "cell_type": "code",
   "execution_count": null,
   "source": [
    "# potential code before try catch\r\n",
    "\r\n",
    "try:\r\n",
    "    # code to try to execute\r\n",
    "except ZeroDivisionError:\r\n",
    "    # code to execute if there is a ZeroDivisionError\r\n",
    "except NameError:\r\n",
    "    # code to execute if there is a NameError\r\n",
    "    \r\n",
    "# code that will execute if there is no exception or a one that we are handling"
   ],
   "outputs": [],
   "metadata": {}
  },
  {
   "cell_type": "markdown",
   "source": [
    "You can also have an empty except at the end to catch an unexpected exception:\n"
   ],
   "metadata": {}
  },
  {
   "cell_type": "markdown",
   "source": [
    "<b>do not run, just to illustrate</b>\n"
   ],
   "metadata": {}
  },
  {
   "cell_type": "code",
   "execution_count": null,
   "source": [
    "# potential code before try catch\r\n",
    "\r\n",
    "try:\r\n",
    "    # code to try to execute\r\n",
    "except ZeroDivisionError:\r\n",
    "    # code to execute if there is a ZeroDivisionError\r\n",
    "except NameError:\r\n",
    "    # code to execute if there is a NameError\r\n",
    "except:\r\n",
    "    # code to execute if ther is any exception\r\n",
    "    \r\n",
    "# code that will execute if there is no exception or a one that we are handling"
   ],
   "outputs": [],
   "metadata": {}
  },
  {
   "cell_type": "markdown",
   "source": [
    "### Try Except Specific Example\n"
   ],
   "metadata": {}
  },
  {
   "cell_type": "markdown",
   "source": [
    "This is the same example as above, but now we will add differentiated messages depending on the exception letting the user know what is wrong with the input.\n"
   ],
   "metadata": {}
  },
  {
   "cell_type": "code",
   "execution_count": 3,
   "source": [
    "a = 1\r\n",
    "\r\n",
    "try:\r\n",
    "    b = int(input(\"Please enter a number to divide a\"))\r\n",
    "    a = a/b\r\n",
    "    print(\"Success a=\",a)\r\n",
    "except ZeroDivisionError:\r\n",
    "    print(\"The number you provided cant divide 1 because it is 0\")\r\n",
    "except ValueError:\r\n",
    "    print(\"You did not provide a number\")\r\n",
    "except:\r\n",
    "    print(\"Something went wrong\")\r\n",
    "        \r\n"
   ],
   "outputs": [
    {
     "output_type": "stream",
     "name": "stdout",
     "text": [
      "The number you provided cant divide 1 because it is 0\n"
     ]
    }
   ],
   "metadata": {}
  },
  {
   "cell_type": "markdown",
   "source": [
    "### Try Except Else and Finally\n"
   ],
   "metadata": {}
  },
  {
   "cell_type": "markdown",
   "source": [
    "<code>else</code> allows one to check if there was no exception when executing the try block. This is useful when we want to execute something only if there were no errors.\n"
   ],
   "metadata": {}
  },
  {
   "cell_type": "markdown",
   "source": [
    "<b>do not run, just to illustrate</b>\n"
   ],
   "metadata": {}
  },
  {
   "cell_type": "code",
   "execution_count": null,
   "source": [
    "# potential code before try catch\r\n",
    "\r\n",
    "try:\r\n",
    "    # code to try to execute\r\n",
    "except ZeroDivisionError:\r\n",
    "    # code to execute if there is a ZeroDivisionError\r\n",
    "except NameError:\r\n",
    "    # code to execute if there is a NameError\r\n",
    "except:\r\n",
    "    # code to execute if ther is any exception\r\n",
    "else:\r\n",
    "    # code to execute if there is no exception\r\n",
    "    \r\n",
    "# code that will execute if there is no exception or a one that we are handling"
   ],
   "outputs": [],
   "metadata": {}
  },
  {
   "cell_type": "markdown",
   "source": [
    "<code>finally</code> allows us to always execute something even if there is an exception or not. This is usually used to signify the end of the try except.\n"
   ],
   "metadata": {}
  },
  {
   "cell_type": "code",
   "execution_count": null,
   "source": [
    "# potential code before try catch\r\n",
    "\r\n",
    "try:\r\n",
    "    # code to try to execute\r\n",
    "except ZeroDivisionError:\r\n",
    "    # code to execute if there is a ZeroDivisionError\r\n",
    "except NameError:\r\n",
    "    # code to execute if there is a NameError\r\n",
    "except:\r\n",
    "    # code to execute if ther is any exception\r\n",
    "else:\r\n",
    "    # code to execute if there is no exception\r\n",
    "finally:\r\n",
    "    # code to execute at the end of the try except no matter what\r\n",
    "    \r\n",
    "# code that will execute if there is no exception or a one that we are handling"
   ],
   "outputs": [],
   "metadata": {}
  },
  {
   "cell_type": "markdown",
   "source": [
    "### Try Except Else and Finally Example\n"
   ],
   "metadata": {}
  },
  {
   "cell_type": "markdown",
   "source": [
    "You might have noticed that even if there is an error the value of a is always printed. Lets use the else and print the value of a only if there is no error.\n"
   ],
   "metadata": {}
  },
  {
   "cell_type": "code",
   "execution_count": 4,
   "source": [
    "a = 1\r\n",
    "\r\n",
    "try:\r\n",
    "    b = int(input(\"Please enter a number to divide a\"))\r\n",
    "    a = a/b\r\n",
    "except ZeroDivisionError:\r\n",
    "    print(\"The number you provided cant divide 1 because it is 0\")\r\n",
    "except ValueError:\r\n",
    "    print(\"You did not provide a number\")\r\n",
    "except:\r\n",
    "    print(\"Something went wrong\")\r\n",
    "else:\r\n",
    "    print(\"success a=\",a)"
   ],
   "outputs": [
    {
     "output_type": "stream",
     "name": "stdout",
     "text": [
      "You did not provide a number\n"
     ]
    }
   ],
   "metadata": {}
  },
  {
   "cell_type": "markdown",
   "source": [
    "Now lets let the user know that we are done processing their answer. Using the <code>finally</code> lets add a print.\n"
   ],
   "metadata": {}
  },
  {
   "cell_type": "code",
   "execution_count": 5,
   "source": [
    "a = 1\r\n",
    "\r\n",
    "try:\r\n",
    "    b = int(input(\"Please enter a number to divide a\"))\r\n",
    "    a = a/b\r\n",
    "except ZeroDivisionError:\r\n",
    "    print(\"The number you provided cant divide 1 because it is 0\")\r\n",
    "except ValueError:\r\n",
    "    print(\"You did not provide a number\")\r\n",
    "except:\r\n",
    "    print(\"Something went wrong\")\r\n",
    "else:\r\n",
    "    print(\"success a=\",a)\r\n",
    "finally:\r\n",
    "    print(\"Processing Complete\")"
   ],
   "outputs": [
    {
     "output_type": "stream",
     "name": "stdout",
     "text": [
      "success a= 0.125\n",
      "Processing Complete\n"
     ]
    }
   ],
   "metadata": {}
  },
  {
   "cell_type": "markdown",
   "source": [
    "## Authors\n"
   ],
   "metadata": {}
  },
  {
   "cell_type": "markdown",
   "source": [
    "<a href=\"https://www.linkedin.com/in/joseph-s-50398b136/\" target=\"_blank\">Joseph Santarcangelo</a>\n"
   ],
   "metadata": {}
  },
  {
   "cell_type": "markdown",
   "source": [
    "## Change Log\n",
    "\n",
    "| Date (YYYY-MM-DD) | Version | Changed By | Change Description           |\n",
    "| ----------------- | ------- | ---------- | ---------------------------- |\n",
    "| 2020-09-02        | 2.0     | Simran     | Template updates to the file |\n",
    "|                   |         |            |                              |\n",
    "|                   |         |            |                              |\n",
    "\n",
    "## <h3 align=\"center\"> © IBM Corporation 2020. All rights reserved. <h3/>\n"
   ],
   "metadata": {}
  }
 ],
 "metadata": {
  "kernelspec": {
   "name": "python3",
   "display_name": "Python 3.9.1 64-bit (system)"
  },
  "language_info": {
   "codemirror_mode": {
    "name": "ipython",
    "version": 3
   },
   "file_extension": ".py",
   "mimetype": "text/x-python",
   "name": "python",
   "nbconvert_exporter": "python",
   "pygments_lexer": "ipython3",
   "version": "3.9.1"
  },
  "interpreter": {
   "hash": "984caa43a5d61c94098e65d7ad9101511910240d675b66c8906d17a13235cca5"
  }
 },
 "nbformat": 4,
 "nbformat_minor": 4
}