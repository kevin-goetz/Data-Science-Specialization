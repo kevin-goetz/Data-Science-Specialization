{
 "cells": [
  {
   "cell_type": "markdown",
   "source": [
    "<center>\n",
    "    <img src=\"https://s3-api.us-geo.objectstorage.softlayer.net/cf-courses-data/CognitiveClass/Logos/organization_logo/organization_logo.png\" width=\"300\" alt=\"cognitiveclass.ai logo\"  />\n",
    "</center>\n",
    "\n",
    "# Functions in Python\n",
    "\n",
    "Estimated time needed: **40** minutes\n",
    "\n",
    "## Objectives\n",
    "\n",
    "After completing this lab you will be able to:\n",
    "\n",
    "-   Understand functions and variables\n",
    "-   Work with functions and variables\n"
   ],
   "metadata": {}
  },
  {
   "cell_type": "markdown",
   "source": [
    "<h1>Functions in Python</h1>\n"
   ],
   "metadata": {}
  },
  {
   "cell_type": "markdown",
   "source": [
    "<p><strong>Welcome!</strong> This notebook will teach you about the functions in the Python Programming Language. By the end of this lab, you'll know the basic concepts about function, variables, and how to use functions.</p>\n"
   ],
   "metadata": {}
  },
  {
   "cell_type": "markdown",
   "source": [
    "<h2>Table of Contents</h2>\n",
    "<div class=\"alert alert-block alert-info\" style=\"margin-top: 20px\">\n",
    "    <ul>\n",
    "        <li>\n",
    "            <a href=\"#func\">Functions</a>\n",
    "            <ul>\n",
    "                <li><a href=\"content\">What is a function?</a></li>\n",
    "                <li><a href=\"var\">Variables</a></li>\n",
    "                <li><a href=\"simple\">Functions Make Things Simple</a></li>\n",
    "            </ul>\n",
    "        </li>\n",
    "        <li><a href=\"pre\">Pre-defined functions</a></li>\n",
    "        <li><a href=\"if\">Using <code>if</code>/<code>else</code> Statements and Loops in Functions</a></li>\n",
    "        <li><a href=\"default\">Setting default argument values in your custom functions</a></li>\n",
    "        <li><a href=\"global\">Global variables</a></li>\n",
    "        <li><a href=\"scope\">Scope of a Variable</a></li>\n",
    "        <li><a href=\"collec\">Collections and Functions</a></li>\n",
    "        <li>\n",
    "            <a href=\"#quiz\">Quiz on Loops</a>\n",
    "        </li>\n",
    "    </ul>\n",
    "\n",
    "</div>\n",
    "\n",
    "<hr>\n"
   ],
   "metadata": {}
  },
  {
   "cell_type": "markdown",
   "source": [
    "<h2 id=\"func\">Functions</h2>\n"
   ],
   "metadata": {}
  },
  {
   "cell_type": "markdown",
   "source": [
    "A function is a reusable block of code which performs operations specified in the function. They let you break down tasks and allow you to reuse your code in different programs.\n",
    "\n",
    "There are two types of functions :\n",
    "\n",
    "-   <b>Pre-defined functions</b>\n",
    "-   <b>User defined functions</b>\n"
   ],
   "metadata": {}
  },
  {
   "cell_type": "markdown",
   "source": [
    "<h3 id=\"content\">What is a Function?</h3>\n"
   ],
   "metadata": {}
  },
  {
   "cell_type": "markdown",
   "source": [
    "You can define functions to provide the required functionality. Here are simple rules to define a function in Python:\n",
    "\n",
    "-   Functions blocks begin <code>def</code> followed by the function <code>name</code> and parentheses <code>()</code>.\n",
    "-   There are input parameters or arguments that should be placed within these parentheses. \n",
    "-   You can also define parameters inside these parentheses.\n",
    "-   There is a body within every function that starts with a colon (<code>:</code>) and is indented.\n",
    "-   You can also place documentation before the body. \n",
    "-   The statement <code>return</code> exits a function, optionally passing back a value. \n",
    "\n",
    "An example of a function that adds on to the parameter <code>a</code> prints and returns the output as <code>b</code>:\n"
   ],
   "metadata": {}
  },
  {
   "cell_type": "code",
   "execution_count": 1,
   "source": [
    "# First function example: Add 1 to a and store as b\r\n",
    "\r\n",
    "def add(a):\r\n",
    "    b = a + 1\r\n",
    "    print(a, \"if you add one\", b)\r\n",
    "    return(b)"
   ],
   "outputs": [],
   "metadata": {}
  },
  {
   "cell_type": "markdown",
   "source": [
    "The figure below illustrates the terminology: \n"
   ],
   "metadata": {}
  },
  {
   "cell_type": "markdown",
   "source": [
    "<img src=\"https://cf-courses-data.s3.us.cloud-object-storage.appdomain.cloud/IBMDeveloperSkillsNetwork-PY0101EN-SkillsNetwork/labs/Module%203/images/FuncsDefinition.png\" width=\"500\" /> \n"
   ],
   "metadata": {}
  },
  {
   "cell_type": "markdown",
   "source": [
    "We can obtain help about a function :\n"
   ],
   "metadata": {}
  },
  {
   "cell_type": "code",
   "execution_count": 2,
   "source": [
    "# Get a help on add function\r\n",
    "\r\n",
    "help(add)"
   ],
   "outputs": [
    {
     "output_type": "stream",
     "name": "stdout",
     "text": [
      "Help on function add in module __main__:\n",
      "\n",
      "add(a)\n",
      "\n"
     ]
    }
   ],
   "metadata": {}
  },
  {
   "cell_type": "markdown",
   "source": [
    "We can call the function:\n"
   ],
   "metadata": {}
  },
  {
   "cell_type": "code",
   "execution_count": 3,
   "source": [
    "# Call the function add()\r\n",
    "\r\n",
    "add(1)"
   ],
   "outputs": [
    {
     "output_type": "stream",
     "name": "stdout",
     "text": [
      "1 if you add one 2\n"
     ]
    },
    {
     "output_type": "execute_result",
     "data": {
      "text/plain": [
       "2"
      ]
     },
     "metadata": {},
     "execution_count": 3
    }
   ],
   "metadata": {}
  },
  {
   "cell_type": "markdown",
   "source": [
    "If we call the function with a new input we get a new result:\n"
   ],
   "metadata": {}
  },
  {
   "cell_type": "code",
   "execution_count": 4,
   "source": [
    "# Call the function add()\r\n",
    "\r\n",
    "add(2)"
   ],
   "outputs": [
    {
     "output_type": "stream",
     "name": "stdout",
     "text": [
      "2 if you add one 3\n"
     ]
    },
    {
     "output_type": "execute_result",
     "data": {
      "text/plain": [
       "3"
      ]
     },
     "metadata": {},
     "execution_count": 4
    }
   ],
   "metadata": {}
  },
  {
   "cell_type": "markdown",
   "source": [
    "We can create different functions. For example, we can create a function that multiplies two numbers. The numbers will be represented by the variables <code>a</code> and <code>b</code>:\n"
   ],
   "metadata": {}
  },
  {
   "cell_type": "code",
   "execution_count": 8,
   "source": [
    "# Define a function for multiple two numbers\r\n",
    "\r\n",
    "def Mult(a, b):\r\n",
    "    c = a * b\r\n",
    "    print('This is printed')\r\n",
    "    return(c)\r\n",
    "    print('This is not printed')\r\n",
    "    \r\n",
    "Mult(12,2)"
   ],
   "outputs": [
    {
     "output_type": "stream",
     "name": "stdout",
     "text": [
      "This is printed\n"
     ]
    },
    {
     "output_type": "execute_result",
     "data": {
      "text/plain": [
       "24"
      ]
     },
     "metadata": {},
     "execution_count": 8
    }
   ],
   "metadata": {}
  },
  {
   "cell_type": "markdown",
   "source": [
    "The same function can be used for different data types. For example, we can multiply two integers:\n"
   ],
   "metadata": {}
  },
  {
   "cell_type": "code",
   "execution_count": 9,
   "source": [
    "# Use mult() multiply two integers\r\n",
    "\r\n",
    "Mult(2, 3)"
   ],
   "outputs": [
    {
     "output_type": "stream",
     "name": "stdout",
     "text": [
      "This is printed\n"
     ]
    },
    {
     "output_type": "execute_result",
     "data": {
      "text/plain": [
       "6"
      ]
     },
     "metadata": {},
     "execution_count": 9
    }
   ],
   "metadata": {}
  },
  {
   "cell_type": "markdown",
   "source": [
    "Note how the function terminates at the <code> return </code> statement, while passing back a value. This value can be further assigned to a different variable as desired.\n",
    "\n",
    "<hr>\n",
    "The same function can be used for different data types. For example, we can multiply two integers:\n"
   ],
   "metadata": {}
  },
  {
   "cell_type": "markdown",
   "source": [
    " Two Floats: \n"
   ],
   "metadata": {}
  },
  {
   "cell_type": "code",
   "execution_count": 10,
   "source": [
    "# Use mult() multiply two floats\r\n",
    "\r\n",
    "Mult(10.0, 3.14)"
   ],
   "outputs": [
    {
     "output_type": "stream",
     "name": "stdout",
     "text": [
      "This is printed\n"
     ]
    },
    {
     "output_type": "execute_result",
     "data": {
      "text/plain": [
       "31.400000000000002"
      ]
     },
     "metadata": {},
     "execution_count": 10
    }
   ],
   "metadata": {}
  },
  {
   "cell_type": "markdown",
   "source": [
    "We can even replicate a string by multiplying with an integer: \n"
   ],
   "metadata": {}
  },
  {
   "cell_type": "code",
   "execution_count": 11,
   "source": [
    "# Use mult() multiply two different type values together\r\n",
    "\r\n",
    "Mult(2, \"Michael Jackson \")"
   ],
   "outputs": [
    {
     "output_type": "stream",
     "name": "stdout",
     "text": [
      "This is printed\n"
     ]
    },
    {
     "output_type": "execute_result",
     "data": {
      "text/plain": [
       "'Michael Jackson Michael Jackson '"
      ]
     },
     "metadata": {},
     "execution_count": 11
    }
   ],
   "metadata": {}
  },
  {
   "cell_type": "markdown",
   "source": [
    "<h3 id=\"var\">Variables</h3>\n"
   ],
   "metadata": {}
  },
  {
   "cell_type": "markdown",
   "source": [
    "The input to a function is called a formal parameter.\n",
    "\n",
    "A variable that is declared inside a function is called a  local variable. The parameter only exists within the function (i.e. the point where the function starts and stops).  \n",
    "\n",
    "A variable that is declared outside a function definition is a global variable, and its value is accessible and modifiable throughout the program. We will discuss more about global variables at the end of the lab.\n"
   ],
   "metadata": {}
  },
  {
   "cell_type": "code",
   "execution_count": 12,
   "source": [
    "# Function Definition\r\n",
    "\r\n",
    "def square(a):\r\n",
    "    \r\n",
    "    # Local variable b\r\n",
    "    b = 1\r\n",
    "    c = a * a + b\r\n",
    "    print(a, \"if you square + 1\", c) \r\n",
    "    return(c)"
   ],
   "outputs": [],
   "metadata": {}
  },
  {
   "cell_type": "markdown",
   "source": [
    "The labels are displayed in the figure:  \n"
   ],
   "metadata": {}
  },
  {
   "cell_type": "markdown",
   "source": [
    "<img src=\"https://cf-courses-data.s3.us.cloud-object-storage.appdomain.cloud/IBMDeveloperSkillsNetwork-PY0101EN-SkillsNetwork/labs/Module%203/images/FuncsVar.png\" width=\"500\" />\n"
   ],
   "metadata": {}
  },
  {
   "cell_type": "markdown",
   "source": [
    "We can call the function  with an input of <b>3</b>:\n"
   ],
   "metadata": {}
  },
  {
   "cell_type": "code",
   "execution_count": 13,
   "source": [
    "# Initializes Global variable  \r\n",
    "\r\n",
    "x = 3\r\n",
    "# Makes function call and return function a y\r\n",
    "y = square(x)\r\n",
    "y"
   ],
   "outputs": [
    {
     "output_type": "stream",
     "name": "stdout",
     "text": [
      "3 if you square + 1 10\n"
     ]
    },
    {
     "output_type": "execute_result",
     "data": {
      "text/plain": [
       "10"
      ]
     },
     "metadata": {},
     "execution_count": 13
    }
   ],
   "metadata": {}
  },
  {
   "cell_type": "markdown",
   "source": [
    " We can call the function  with an input of <b>2</b> in a different manner:\n"
   ],
   "metadata": {}
  },
  {
   "cell_type": "code",
   "execution_count": 14,
   "source": [
    "# Directly enter a number as parameter\r\n",
    "\r\n",
    "square(2)"
   ],
   "outputs": [
    {
     "output_type": "stream",
     "name": "stdout",
     "text": [
      "2 if you square + 1 5\n"
     ]
    },
    {
     "output_type": "execute_result",
     "data": {
      "text/plain": [
       "5"
      ]
     },
     "metadata": {},
     "execution_count": 14
    }
   ],
   "metadata": {}
  },
  {
   "cell_type": "markdown",
   "source": [
    "If there is no <code>return</code> statement, the function returns <code>None</code>. The following two functions are equivalent:\n"
   ],
   "metadata": {}
  },
  {
   "cell_type": "code",
   "execution_count": 15,
   "source": [
    "# Define functions, one with return value None and other without return value\r\n",
    "\r\n",
    "def MJ():\r\n",
    "    print('Michael Jackson')\r\n",
    "    \r\n",
    "def MJ1():\r\n",
    "    print('Michael Jackson')\r\n",
    "    return(None)"
   ],
   "outputs": [],
   "metadata": {}
  },
  {
   "cell_type": "code",
   "execution_count": 16,
   "source": [
    "# See the output\r\n",
    "\r\n",
    "MJ()"
   ],
   "outputs": [
    {
     "output_type": "stream",
     "name": "stdout",
     "text": [
      "Michael Jackson\n"
     ]
    }
   ],
   "metadata": {}
  },
  {
   "cell_type": "code",
   "execution_count": 17,
   "source": [
    "# See the output\r\n",
    "\r\n",
    "MJ1()"
   ],
   "outputs": [
    {
     "output_type": "stream",
     "name": "stdout",
     "text": [
      "Michael Jackson\n"
     ]
    }
   ],
   "metadata": {}
  },
  {
   "cell_type": "markdown",
   "source": [
    "Printing the function after a call reveals a **None** is the default return statement:\n"
   ],
   "metadata": {}
  },
  {
   "cell_type": "code",
   "execution_count": 18,
   "source": [
    "# See what functions returns are\r\n",
    "\r\n",
    "print(MJ())\r\n",
    "print(MJ1())"
   ],
   "outputs": [
    {
     "output_type": "stream",
     "name": "stdout",
     "text": [
      "Michael Jackson\n",
      "None\n",
      "Michael Jackson\n",
      "None\n"
     ]
    }
   ],
   "metadata": {}
  },
  {
   "cell_type": "markdown",
   "source": [
    "Create a function <code>con</code> that  concatenates two strings using the addition operation:\n"
   ],
   "metadata": {}
  },
  {
   "cell_type": "code",
   "execution_count": 19,
   "source": [
    "# Define the function for combining strings\r\n",
    "\r\n",
    "def con(a, b):\r\n",
    "    return(a + b)"
   ],
   "outputs": [],
   "metadata": {
    "collapsed": true,
    "jupyter": {
     "outputs_hidden": true
    }
   }
  },
  {
   "cell_type": "code",
   "execution_count": 20,
   "source": [
    "# Test on the con() function\r\n",
    "\r\n",
    "con(\"This \", \"is\")"
   ],
   "outputs": [
    {
     "output_type": "execute_result",
     "data": {
      "text/plain": [
       "'This is'"
      ]
     },
     "metadata": {},
     "execution_count": 20
    }
   ],
   "metadata": {}
  },
  {
   "cell_type": "markdown",
   "source": [
    "<hr/>\n",
    "    <div class=\"alert alert-success alertsuccess\" style=\"margin-top: 20px\">\n",
    "        <h4> [Tip] How do I learn more about the pre-defined functions in Python? </h4>\n",
    "        <p>We will be introducing a variety of pre-defined functions to you as you learn more about Python. There are just too many functions, so there's no way we can teach them all in one sitting. But if you'd like to take a quick peek, here's a short reference card for some of the commonly-used pre-defined functions: <a href=\"https://cf-courses-data.s3.us.cloud-object-storage.appdomain.cloud/IBMDeveloperSkillsNetwork-PY0101EN-SkillsNetwork/labs/Module%203/Python_reference_sheet.pdf\">Reference</a></p>\n",
    "    </div>\n",
    "<hr/>\n"
   ],
   "metadata": {}
  },
  {
   "cell_type": "markdown",
   "source": [
    "<h3 id=\"simple\">Functions Make Things Simple</h3>\n"
   ],
   "metadata": {}
  },
  {
   "cell_type": "markdown",
   "source": [
    "Consider the two lines of code in <b>Block 1</b> and <b>Block 2</b>: the procedure for each block is identical. The only thing that is different is the variable names and values.\n"
   ],
   "metadata": {}
  },
  {
   "cell_type": "markdown",
   "source": [
    "<h4>Block 1:</h4>\n"
   ],
   "metadata": {}
  },
  {
   "cell_type": "code",
   "execution_count": 21,
   "source": [
    "# a and b calculation block1\r\n",
    "\r\n",
    "a1 = 4\r\n",
    "b1 = 5\r\n",
    "c1 = a1 + b1 + 2 * a1 * b1 - 1\r\n",
    "if(c1 < 0):\r\n",
    "    c1 = 0 \r\n",
    "else:\r\n",
    "    c1 = 5\r\n",
    "c1   "
   ],
   "outputs": [
    {
     "output_type": "execute_result",
     "data": {
      "text/plain": [
       "5"
      ]
     },
     "metadata": {},
     "execution_count": 21
    }
   ],
   "metadata": {}
  },
  {
   "cell_type": "markdown",
   "source": [
    "<h4>Block 2:</h4>\n"
   ],
   "metadata": {}
  },
  {
   "cell_type": "code",
   "execution_count": 22,
   "source": [
    "# a and b calculation block2\r\n",
    "\r\n",
    "a2 = 0\r\n",
    "b2 = 0\r\n",
    "c2 = a2 + b2 + 2 * a2 * b2 - 1\r\n",
    "if(c2 < 0):\r\n",
    "    c2 = 0 \r\n",
    "else:\r\n",
    "    c2 = 5\r\n",
    "c2   "
   ],
   "outputs": [
    {
     "output_type": "execute_result",
     "data": {
      "text/plain": [
       "0"
      ]
     },
     "metadata": {},
     "execution_count": 22
    }
   ],
   "metadata": {}
  },
  {
   "cell_type": "markdown",
   "source": [
    "We can replace the lines of code with a function. A function combines many instructions into a single line of code. Once a function is defined, it can be used repeatedly. You can invoke the same function many times in your program. You can save your function and use it in another program or use someone else’s function. The lines of code in code <b>Block 1</b> and code <b>Block 2</b> can be replaced by the following function:  \n"
   ],
   "metadata": {}
  },
  {
   "cell_type": "code",
   "execution_count": 23,
   "source": [
    "# Make a Function for the calculation above\r\n",
    "\r\n",
    "def Equation(a,b):\r\n",
    "    c = a + b + 2 * a * b - 1\r\n",
    "    if(c < 0):\r\n",
    "        c = 0 \r\n",
    "    else:\r\n",
    "        c = 5\r\n",
    "    return(c) "
   ],
   "outputs": [],
   "metadata": {}
  },
  {
   "cell_type": "markdown",
   "source": [
    "This function takes two inputs, a and b, then applies several operations to return c. \n",
    "We simply define the function, replace the instructions with the function, and input the new values of <code>a1</code>, <code>b1</code> and <code>a2</code>, <code>b2</code> as inputs. The entire process is demonstrated in the figure: \n"
   ],
   "metadata": {}
  },
  {
   "cell_type": "markdown",
   "source": [
    "<img src=\"https://cf-courses-data.s3.us.cloud-object-storage.appdomain.cloud/IBMDeveloperSkillsNetwork-PY0101EN-SkillsNetwork/labs/Module%203/images/FuncsPros.gif\" width=\"850\" />\n"
   ],
   "metadata": {}
  },
  {
   "cell_type": "markdown",
   "source": [
    "Code **Blocks 1** and **Block 2** can now be replaced with code **Block 3** and code **Block 4**.\n"
   ],
   "metadata": {}
  },
  {
   "cell_type": "markdown",
   "source": [
    "<h4>Block 3:</h4>\n"
   ],
   "metadata": {}
  },
  {
   "cell_type": "code",
   "execution_count": 24,
   "source": [
    "a1 = 4\r\n",
    "b1 = 5\r\n",
    "c1 = Equation(a1, b1)\r\n",
    "c1"
   ],
   "outputs": [
    {
     "output_type": "execute_result",
     "data": {
      "text/plain": [
       "5"
      ]
     },
     "metadata": {},
     "execution_count": 24
    }
   ],
   "metadata": {}
  },
  {
   "cell_type": "markdown",
   "source": [
    "<h4>Block 4:</h4>\n"
   ],
   "metadata": {}
  },
  {
   "cell_type": "code",
   "execution_count": 25,
   "source": [
    "a2 = 0\r\n",
    "b2 = 0\r\n",
    "c2 = Equation(a2, b2)\r\n",
    "c2"
   ],
   "outputs": [
    {
     "output_type": "execute_result",
     "data": {
      "text/plain": [
       "0"
      ]
     },
     "metadata": {},
     "execution_count": 25
    }
   ],
   "metadata": {}
  },
  {
   "cell_type": "markdown",
   "source": [
    "<hr>\n"
   ],
   "metadata": {}
  },
  {
   "cell_type": "markdown",
   "source": [
    "<h2 id=\"pre\">Pre-defined functions</h2>\n"
   ],
   "metadata": {}
  },
  {
   "cell_type": "markdown",
   "source": [
    "There are many pre-defined functions in Python, so let's start with the simple ones.\n"
   ],
   "metadata": {}
  },
  {
   "cell_type": "markdown",
   "source": [
    "The <code>print()</code> function:\n"
   ],
   "metadata": {}
  },
  {
   "cell_type": "code",
   "execution_count": 26,
   "source": [
    "# Build-in function print()\r\n",
    "\r\n",
    "album_ratings = [10.0, 8.5, 9.5, 7.0, 7.0, 9.5, 9.0, 9.5] \r\n",
    "print(album_ratings)"
   ],
   "outputs": [
    {
     "output_type": "stream",
     "name": "stdout",
     "text": [
      "[10.0, 8.5, 9.5, 7.0, 7.0, 9.5, 9.0, 9.5]\n"
     ]
    }
   ],
   "metadata": {}
  },
  {
   "cell_type": "markdown",
   "source": [
    "The <code>sum()</code> function adds all the  elements in a list or tuple:\n"
   ],
   "metadata": {}
  },
  {
   "cell_type": "code",
   "execution_count": 27,
   "source": [
    "# Use sum() to add every element in a list or tuple together\r\n",
    "\r\n",
    "sum(album_ratings)"
   ],
   "outputs": [
    {
     "output_type": "execute_result",
     "data": {
      "text/plain": [
       "70.0"
      ]
     },
     "metadata": {},
     "execution_count": 27
    }
   ],
   "metadata": {}
  },
  {
   "cell_type": "markdown",
   "source": [
    "The <code>len()</code> function returns the length of a list or tuple: \n"
   ],
   "metadata": {}
  },
  {
   "cell_type": "code",
   "execution_count": 28,
   "source": [
    "# Show the length of the list or tuple\r\n",
    "\r\n",
    "len(album_ratings)"
   ],
   "outputs": [
    {
     "output_type": "execute_result",
     "data": {
      "text/plain": [
       "8"
      ]
     },
     "metadata": {},
     "execution_count": 28
    }
   ],
   "metadata": {}
  },
  {
   "cell_type": "markdown",
   "source": [
    "<h2 id=\"if\">Using <code>if</code>/<code>else</code> Statements and Loops in Functions</h2>\n"
   ],
   "metadata": {}
  },
  {
   "cell_type": "markdown",
   "source": [
    "The <code>return()</code> function is particularly useful if you have any IF statements in the function, when you want your output to be dependent on some condition: \n"
   ],
   "metadata": {}
  },
  {
   "cell_type": "code",
   "execution_count": 29,
   "source": [
    "# Function example\r\n",
    "\r\n",
    "def type_of_album(artist, album, year_released):\r\n",
    "    \r\n",
    "    print(artist, album, year_released)\r\n",
    "    if year_released > 1980:\r\n",
    "        return \"Modern\"\r\n",
    "    else:\r\n",
    "        return \"Oldie\"\r\n",
    "    \r\n",
    "x = type_of_album(\"Michael Jackson\", \"Thriller\", 1980)\r\n",
    "print(x)"
   ],
   "outputs": [
    {
     "output_type": "stream",
     "name": "stdout",
     "text": [
      "Michael Jackson Thriller 1980\n",
      "Oldie\n"
     ]
    }
   ],
   "metadata": {}
  },
  {
   "cell_type": "markdown",
   "source": [
    "We can use a loop in a function. For example, we can <code>print</code> out each element in a list:\n"
   ],
   "metadata": {}
  },
  {
   "cell_type": "code",
   "execution_count": 30,
   "source": [
    "# Print the list using for loop\r\n",
    "\r\n",
    "def PrintList(the_list):\r\n",
    "    for element in the_list:\r\n",
    "        print(element)"
   ],
   "outputs": [],
   "metadata": {}
  },
  {
   "cell_type": "code",
   "execution_count": 31,
   "source": [
    "# Implement the printlist function\r\n",
    "\r\n",
    "PrintList(['1', 1, 'the man', \"abc\"])"
   ],
   "outputs": [
    {
     "output_type": "stream",
     "name": "stdout",
     "text": [
      "1\n",
      "1\n",
      "the man\n",
      "abc\n"
     ]
    }
   ],
   "metadata": {}
  },
  {
   "cell_type": "markdown",
   "source": [
    "<hr>\n"
   ],
   "metadata": {}
  },
  {
   "cell_type": "markdown",
   "source": [
    "<h2 id=\"default\">Setting default argument values in your custom functions</h2>\n"
   ],
   "metadata": {}
  },
  {
   "cell_type": "markdown",
   "source": [
    "You can set a default value for arguments in your function. For example, in the <code>isGoodRating()</code> function, what if we wanted to create a threshold for what we consider to be a good rating? Perhaps by default, we should have a default rating of 4:\n"
   ],
   "metadata": {}
  },
  {
   "cell_type": "code",
   "execution_count": 32,
   "source": [
    "# Example for setting param with default value\r\n",
    "\r\n",
    "def isGoodRating(rating=4): \r\n",
    "    if(rating < 7):\r\n",
    "        print(\"this album sucks it's rating is\",rating)\r\n",
    "        \r\n",
    "    else:\r\n",
    "        print(\"this album is good its rating is\",rating)\r\n"
   ],
   "outputs": [],
   "metadata": {}
  },
  {
   "cell_type": "code",
   "execution_count": 33,
   "source": [
    "# Test the value with default value and with input\r\n",
    "\r\n",
    "isGoodRating()\r\n",
    "isGoodRating(10)"
   ],
   "outputs": [
    {
     "output_type": "stream",
     "name": "stdout",
     "text": [
      "this album sucks it's rating is 4\n",
      "this album is good its rating is 10\n"
     ]
    }
   ],
   "metadata": {}
  },
  {
   "cell_type": "markdown",
   "source": [
    "<hr>\n"
   ],
   "metadata": {}
  },
  {
   "cell_type": "markdown",
   "source": [
    "<h2 id=\"global\">Global variables</h2>\n"
   ],
   "metadata": {}
  },
  {
   "cell_type": "markdown",
   "source": [
    "So far, we've been creating variables within functions, but we have not discussed variables outside the function. These are called global variables. \n",
    "<br>\n",
    "Let's try to see what <code>printer1</code> returns:\n"
   ],
   "metadata": {}
  },
  {
   "cell_type": "code",
   "execution_count": 37,
   "source": [
    "# Example of global variable\r\n",
    "\r\n",
    "artist = \"Michael Jackson\"\r\n",
    "def printer1(artist):\r\n",
    "    internal_var1 = artist\r\n",
    "    print(artist, \"is an artist\")\r\n",
    "    \r\n",
    "printer1(artist)\r\n",
    "# try runningthe following code\r\n",
    "printer1(internal_var1) "
   ],
   "outputs": [
    {
     "output_type": "stream",
     "name": "stdout",
     "text": [
      "Michael Jackson is an artist\n"
     ]
    },
    {
     "output_type": "error",
     "ename": "NameError",
     "evalue": "name 'internal_var1' is not defined",
     "traceback": [
      "\u001b[1;31m---------------------------------------------------------------------------\u001b[0m",
      "\u001b[1;31mNameError\u001b[0m                                 Traceback (most recent call last)",
      "\u001b[1;32m<ipython-input-37-84d780d2ddb5>\u001b[0m in \u001b[0;36m<module>\u001b[1;34m\u001b[0m\n\u001b[0;32m      8\u001b[0m \u001b[0mprinter1\u001b[0m\u001b[1;33m(\u001b[0m\u001b[0martist\u001b[0m\u001b[1;33m)\u001b[0m\u001b[1;33m\u001b[0m\u001b[1;33m\u001b[0m\u001b[0m\n\u001b[0;32m      9\u001b[0m \u001b[1;31m# try runningthe following code\u001b[0m\u001b[1;33m\u001b[0m\u001b[1;33m\u001b[0m\u001b[1;33m\u001b[0m\u001b[0m\n\u001b[1;32m---> 10\u001b[1;33m \u001b[0mprinter1\u001b[0m\u001b[1;33m(\u001b[0m\u001b[0minternal_var1\u001b[0m\u001b[1;33m)\u001b[0m\u001b[1;33m\u001b[0m\u001b[1;33m\u001b[0m\u001b[0m\n\u001b[0m",
      "\u001b[1;31mNameError\u001b[0m: name 'internal_var1' is not defined"
     ]
    }
   ],
   "metadata": {}
  },
  {
   "cell_type": "markdown",
   "source": [
    "<b>We got a Name Error:  <code>name 'internal_var' is not defined</code>. Why?</b>  \n",
    "\n",
    "It's because all the variables we create in the function is a <b>local variable</b>, meaning that the variable assignment does not persist outside the function.  \n",
    "\n",
    "But there is a way to create <b>global variables</b> from within a function as follows:\n"
   ],
   "metadata": {}
  },
  {
   "cell_type": "code",
   "execution_count": 38,
   "source": [
    "artist = \"Michael Jackson\"\r\n",
    "\r\n",
    "def printer(artist):\r\n",
    "    global internal_var \r\n",
    "    internal_var= \"Whitney Houston\"\r\n",
    "    print(artist,\"is an artist\")\r\n",
    "\r\n",
    "printer(artist) \r\n",
    "printer(internal_var)"
   ],
   "outputs": [
    {
     "output_type": "stream",
     "name": "stdout",
     "text": [
      "Michael Jackson is an artist\n",
      "Whitney Houston is an artist\n"
     ]
    }
   ],
   "metadata": {}
  },
  {
   "cell_type": "markdown",
   "source": [
    "<h2 id=\"scope\">Scope of a Variable</h2>\n"
   ],
   "metadata": {}
  },
  {
   "cell_type": "markdown",
   "source": [
    " The scope of a variable is the part of that program where that variable is accessible. Variables that are declared outside of all function definitions, such as the <code>myFavouriteBand</code> variable in the code shown here, are accessible from anywhere within the program. As a result, such variables are said to have global scope, and are known as global variables. \n",
    "    <code>myFavouriteBand</code> is a global variable, so it is accessible from within the <code>getBandRating</code> function, and we can use it to determine a band's rating. We can also use it outside of the function, such as when we pass it to the print function to display it:\n"
   ],
   "metadata": {}
  },
  {
   "cell_type": "code",
   "execution_count": 39,
   "source": [
    "# Example of global variable\r\n",
    "\r\n",
    "myFavouriteBand = \"AC/DC\"\r\n",
    "\r\n",
    "def getBandRating(bandname):\r\n",
    "    if bandname == myFavouriteBand:\r\n",
    "        return 10.0\r\n",
    "    else:\r\n",
    "        return 0.0\r\n",
    "\r\n",
    "print(\"AC/DC's rating is:\", getBandRating(\"AC/DC\"))\r\n",
    "print(\"Deep Purple's rating is:\",getBandRating(\"Deep Purple\"))\r\n",
    "print(\"My favourite band is:\", myFavouriteBand)"
   ],
   "outputs": [
    {
     "output_type": "stream",
     "name": "stdout",
     "text": [
      "AC/DC's rating is: 10.0\n",
      "Deep Purple's rating is: 0.0\n",
      "My favourite band is: AC/DC\n"
     ]
    }
   ],
   "metadata": {}
  },
  {
   "cell_type": "markdown",
   "source": [
    " Take a look at this modified version of our code. Now the <code>myFavouriteBand</code> variable is defined within the <code>getBandRating</code> function. A variable that is defined within a function is said to be a local variable of that function. That means that it is only accessible from within the function in which it is defined. Our <code>getBandRating</code> function will still work, because <code>myFavouriteBand</code> is still defined within the function. However, we can no longer print <code>myFavouriteBand</code> outside our function, because it is a local variable of our <code>getBandRating</code> function; it is only defined within the <code>getBandRating</code> function:\n"
   ],
   "metadata": {}
  },
  {
   "cell_type": "code",
   "execution_count": 40,
   "source": [
    "# Example of local variable\r\n",
    "\r\n",
    "def getBandRating(bandname):\r\n",
    "    myFavouriteBand = \"AC/DC\"\r\n",
    "    if bandname == myFavouriteBand:\r\n",
    "        return 10.0\r\n",
    "    else:\r\n",
    "        return 0.0\r\n",
    "\r\n",
    "print(\"AC/DC's rating is: \", getBandRating(\"AC/DC\"))\r\n",
    "print(\"Deep Purple's rating is: \", getBandRating(\"Deep Purple\"))\r\n",
    "print(\"My favourite band is\", myFavouriteBand)"
   ],
   "outputs": [
    {
     "output_type": "stream",
     "name": "stdout",
     "text": [
      "AC/DC's rating is:  10.0\n",
      "Deep Purple's rating is:  0.0\n",
      "My favourite band is AC/DC\n"
     ]
    }
   ],
   "metadata": {}
  },
  {
   "cell_type": "markdown",
   "source": [
    " Finally, take a look at this example. We now have two <code>myFavouriteBand</code> variable definitions. The first one of these has a global scope, and the second of them is a local variable within the <code>getBandRating</code> function. Within the <code>getBandRating</code> function, the local variable takes precedence. **Deep Purple** will receive a rating of 10.0 when passed to the <code>getBandRating</code> function. However, outside of the <code>getBandRating</code> function, the <code>getBandRating</code> s local variable is not defined, so the <code>myFavouriteBand</code> variable we print is the global variable, which has a value of **AC/DC**:\n"
   ],
   "metadata": {}
  },
  {
   "cell_type": "code",
   "execution_count": 42,
   "source": [
    "# Example of global variable and local variable with the same name\r\n",
    "\r\n",
    "myFavouriteBand = \"AC/DC\"\r\n",
    "\r\n",
    "def getBandRating(bandname):\r\n",
    "    myFavouriteBand = \"Deep Purple\"\r\n",
    "    if bandname == myFavouriteBand:\r\n",
    "        return 10.0\r\n",
    "    else:\r\n",
    "        return 0.0\r\n",
    "\r\n",
    "print(\"AC/DC's rating is:\",getBandRating(\"AC/DC\"))\r\n",
    "print(\"Deep Purple's rating is: \",getBandRating(\"Deep Purple\"))\r\n",
    "print(\"My favourite band is:\",myFavouriteBand)"
   ],
   "outputs": [
    {
     "output_type": "stream",
     "name": "stdout",
     "text": [
      "AC/DC's rating is: 0.0\n",
      "Deep Purple's rating is:  10.0\n",
      "My favourite band is: AC/DC\n"
     ]
    }
   ],
   "metadata": {}
  },
  {
   "cell_type": "markdown",
   "source": [
    "<hr>\n",
    "<h2 id =\"collec\"> Collections and Functions</h2>\n"
   ],
   "metadata": {}
  },
  {
   "cell_type": "markdown",
   "source": [
    "When the number of arguments  are unknown for a function, They can all be packed into a tuple as shown:\n"
   ],
   "metadata": {}
  },
  {
   "cell_type": "code",
   "execution_count": 43,
   "source": [
    "def printAll(*args): # All the arguments are 'packed' into args which can be treated like a tuple\r\n",
    "    print(\"No of arguments:\", len(args)) \r\n",
    "    for argument in args:\r\n",
    "        print(argument)\r\n",
    "#printAll with 3 arguments\r\n",
    "printAll('Horsefeather','Adonis','Bone')\r\n",
    "#printAll with 4 arguments\r\n",
    "printAll('Sidecar','Long Island','Mudslide','Carriage')"
   ],
   "outputs": [
    {
     "output_type": "stream",
     "name": "stdout",
     "text": [
      "No of arguments: 3\n",
      "Horsefeather\n",
      "Adonis\n",
      "Bone\n",
      "No of arguments: 4\n",
      "Sidecar\n",
      "Long Island\n",
      "Mudslide\n",
      "Carriage\n"
     ]
    }
   ],
   "metadata": {}
  },
  {
   "cell_type": "markdown",
   "source": [
    "Similarly, The arguments can also be packed into a dictionary as shown:    \n"
   ],
   "metadata": {}
  },
  {
   "cell_type": "code",
   "execution_count": 44,
   "source": [
    "def printDictionary(**args):\r\n",
    "    for key in args:\r\n",
    "        print(key + \" : \" + args[key])\r\n",
    "\r\n",
    "printDictionary(Country='Canada',Province='Ontario',City='Toronto')\r\n",
    "    "
   ],
   "outputs": [
    {
     "output_type": "stream",
     "name": "stdout",
     "text": [
      "Country : Canada\n",
      "Province : Ontario\n",
      "City : Toronto\n"
     ]
    }
   ],
   "metadata": {}
  },
  {
   "cell_type": "markdown",
   "source": [
    "Functions can be incredibly powerful and versatile. They can accept (and return) data types, objects and even other functions as arguements. Consider the example below: \n"
   ],
   "metadata": {}
  },
  {
   "cell_type": "code",
   "execution_count": 45,
   "source": [
    "def addItems(list):\r\n",
    "    list.append(\"Three\")\r\n",
    "    list.append(\"Four\")\r\n",
    "\r\n",
    "myList = [\"One\",\"Two\"]\r\n",
    "\r\n",
    "addItems(myList)\r\n",
    "\r\n",
    "myList\r\n",
    "    "
   ],
   "outputs": [
    {
     "output_type": "execute_result",
     "data": {
      "text/plain": [
       "['One', 'Two', 'Three', 'Four']"
      ]
     },
     "metadata": {},
     "execution_count": 45
    }
   ],
   "metadata": {}
  },
  {
   "cell_type": "markdown",
   "source": [
    "Note how the changes made to the list are not limited to the functions scope. This occurs as it is the lists **reference** that is passed to the function - Any changes made are on the orignal instance of the list. Therefore, one should be cautious when passing mutable objects into functions.\n",
    "\n",
    "<hr>\n"
   ],
   "metadata": {}
  },
  {
   "cell_type": "markdown",
   "source": [
    "<h2>Quiz on Functions</h2>\n"
   ],
   "metadata": {}
  },
  {
   "cell_type": "markdown",
   "source": [
    "Come up with a function that divides the first input by the second input:\n"
   ],
   "metadata": {}
  },
  {
   "cell_type": "code",
   "execution_count": 46,
   "source": [
    "# Write your code below and press Shift+Enter to execute\r\n",
    "def div(a, b):\r\n",
    "    return(a/b)"
   ],
   "outputs": [],
   "metadata": {}
  },
  {
   "cell_type": "markdown",
   "source": [
    "<details><summary>Click here for the solution</summary>\r\n",
    "\r\n",
    "```python\r\n",
    "def div(a, b):\r\n",
    "    return(a/b)\r\n",
    "    \r\n",
    "```\r\n",
    "\r\n",
    "</details>\r\n",
    " \r\n"
   ],
   "metadata": {}
  },
  {
   "cell_type": "markdown",
   "source": [
    "<hr>\n"
   ],
   "metadata": {}
  },
  {
   "cell_type": "markdown",
   "source": [
    "Use the function <code>con</code> for the following question.\n"
   ],
   "metadata": {}
  },
  {
   "cell_type": "code",
   "execution_count": 47,
   "source": [
    "# Use the con function for the following question\r\n",
    "\r\n",
    "def con(a, b):\r\n",
    "    return(a + b)"
   ],
   "outputs": [],
   "metadata": {}
  },
  {
   "cell_type": "markdown",
   "source": [
    "Can the <code>con</code> function we defined before be used to add two integers or strings?\n"
   ],
   "metadata": {}
  },
  {
   "cell_type": "code",
   "execution_count": 49,
   "source": [
    "# Write your code below and press Shift+Enter to execute\r\n",
    "con(5, 5)\r\n",
    "con('Hi ', 'there')"
   ],
   "outputs": [
    {
     "output_type": "execute_result",
     "data": {
      "text/plain": [
       "'Hi there'"
      ]
     },
     "metadata": {},
     "execution_count": 49
    }
   ],
   "metadata": {}
  },
  {
   "cell_type": "markdown",
   "source": [
    "<details><summary>Click here for the solution</summary>\n",
    "\n",
    "```python\n",
    "Yes, for example: \n",
    "con(2, 2)\n",
    "    \n",
    "```\n",
    "\n",
    "</details>\n",
    " \n"
   ],
   "metadata": {}
  },
  {
   "cell_type": "markdown",
   "source": [
    "<hr>\n"
   ],
   "metadata": {}
  },
  {
   "cell_type": "markdown",
   "source": [
    "Can the <code>con</code> function we defined before be used to concatenate lists or tuples?\n"
   ],
   "metadata": {}
  },
  {
   "cell_type": "code",
   "execution_count": 51,
   "source": [
    "# Write your code below and press Shift+Enter to execute\r\n",
    "con(['Hi ', 5], ['there', 1])"
   ],
   "outputs": [
    {
     "output_type": "execute_result",
     "data": {
      "text/plain": [
       "['Hi ', 5, 'there', 1]"
      ]
     },
     "metadata": {},
     "execution_count": 51
    }
   ],
   "metadata": {}
  },
  {
   "cell_type": "markdown",
   "source": [
    "<details><summary>Click here for the solution</summary>\r\n",
    "\r\n",
    "```python\r\n",
    "Yes, for example: \r\n",
    "con(['a', 1], ['b', 1])\r\n",
    "    \r\n",
    "```\r\n",
    "\r\n",
    "</details>\r\n",
    " \r\n"
   ],
   "metadata": {}
  },
  {
   "cell_type": "markdown",
   "source": [
    "**Probability Bag**\n"
   ],
   "metadata": {}
  },
  {
   "cell_type": "markdown",
   "source": [
    "You have been tasked with creating a lab that demonstrates the basics of probability by simulating a bag filled with colored balls. The bag is represented using a dictionary called \"bag\", where the key represents the color of the ball and the value represents the no of balls. The skeleton code has been made for you, do not add or remove any functions. Complete the following functions -\n",
    "\n",
    "-   fillBag - A function that packs it's arguments into a global dictionary \"bag\".  \n",
    "-   totalBalls - returns the total no of balls in the bucket\n",
    "-   probOf - takes a color (string) as argument and returns probability of drawing the selected ball. Assume total balls are not zero and the color given is a valid key.\n",
    "-   probAll - returns a dictionary of all colors and their corresponding probability\n"
   ],
   "metadata": {}
  },
  {
   "cell_type": "code",
   "execution_count": 55,
   "source": [
    "def fillBag(**balls):\r\n",
    "    global bag\r\n",
    "    bag = balls\r\n",
    "    \r\n",
    "def totalBalls():\r\n",
    "    total = 0\r\n",
    "    for color in bag:\r\n",
    "        total += bag[color]\r\n",
    "    return total\r\n",
    "    # alternatively,\r\n",
    "    # return sum(bag.values())\r\n",
    "    \r\n",
    "def probOf(color):\r\n",
    "    return bag[color]/totalBalls()\r\n",
    "\r\n",
    "def probAll():\r\n",
    "    probDict = {}\r\n",
    "    for color in bag:\r\n",
    "        probDict[color] = probOf(color)\r\n",
    "    return probDict\r\n"
   ],
   "outputs": [],
   "metadata": {}
  },
  {
   "cell_type": "markdown",
   "source": [
    "Run this snippet of code to test your solution. \n",
    "\n",
    "Note: This is not a comprehensive test. \n"
   ],
   "metadata": {}
  },
  {
   "cell_type": "code",
   "execution_count": 56,
   "source": [
    "\r\n",
    "testBag = dict(red = 12, blue = 20, green = 14, grey = 10)\r\n",
    "total =  sum(testBag.values())\r\n",
    "prob={}\r\n",
    "for color in testBag:\r\n",
    "    prob[color] = testBag[color]/total;\r\n",
    "\r\n",
    "def testMsg(passed):\r\n",
    "    if passed:\r\n",
    "       return 'Test Passed'\r\n",
    "    else :\r\n",
    "       return ' Test Failed'\r\n",
    "\r\n",
    "print(\"fillBag : \")\r\n",
    "try:\r\n",
    "    fillBag(**testBag)\r\n",
    "    print(testMsg(bag == testBag))\r\n",
    "except NameError as e: \r\n",
    "    print('Error! Code: {c}, Message: {m}'.format(c = type(e).__name__, m = str(e)))\r\n",
    "except:\r\n",
    "    print(\"An error occured. Recheck your function\")\r\n",
    "\r\n",
    "\r\n",
    "\r\n",
    "print(\"totalBalls : \")\r\n",
    "try:\r\n",
    "    print(testMsg(total == totalBalls()))\r\n",
    "except NameError as e: \r\n",
    "    print('Error! Code: {c}, Message: {m}'.format(c = type(e).__name__, m = str(e)))\r\n",
    "except:\r\n",
    "    print(\"An error occured. Recheck your function\")\r\n",
    "    \r\n",
    "print(\"probOf\")\r\n",
    "try:\r\n",
    "    passed = True\r\n",
    "    for color in testBag:\r\n",
    "           if probOf(color) != prob[color]:\r\n",
    "                passed = False\r\n",
    "        \r\n",
    "    print(testMsg(passed) )\r\n",
    "except NameError as e: \r\n",
    "    print('Error! Code: {c}, Message: {m}'.format(c = type(e).__name__, m = str(e)))\r\n",
    "except:\r\n",
    "    print(\"An error occured. Recheck your function\")\r\n",
    "    \r\n",
    "print(\"probAll\")\r\n",
    "try:\r\n",
    "    print(testMsg(probAll() == prob))\r\n",
    "except NameError as e: \r\n",
    "    print('Error! Code: {c}, Message: {m}'.format(c = type(e).__name__, m = str(e)))\r\n",
    "except:\r\n",
    "    print(\"An error occured. Recheck your function\")\r\n",
    "    \r\n"
   ],
   "outputs": [
    {
     "output_type": "stream",
     "name": "stdout",
     "text": [
      "fillBag : \n",
      "Test Passed\n",
      "totalBalls : \n",
      "Test Passed\n",
      "probOf\n",
      "Test Passed\n",
      "probAll\n",
      "Test Passed\n"
     ]
    }
   ],
   "metadata": {
    "tags": [
     "hide"
    ]
   }
  },
  {
   "cell_type": "markdown",
   "source": [
    "<details><summary>Click here for the solution</summary>\r\n",
    "\r\n",
    "```python\r\n",
    "def fillBag(**balls):\r\n",
    "    global bag\r\n",
    "    bag = balls\r\n",
    "    \r\n",
    "def totalBalls():\r\n",
    "    total = 0\r\n",
    "    for color in bag:\r\n",
    "        total += bag[color]\r\n",
    "    return total\r\n",
    "    # alternatively,\r\n",
    "    # return sum(bag.values())\r\n",
    "    \r\n",
    "def probOf(color):\r\n",
    "    return bag[color]/totalBalls()\r\n",
    "\r\n",
    "def probAll():\r\n",
    "    probDict = {}\r\n",
    "    for color in bag:\r\n",
    "        probDict[color] = probOf(color)\r\n",
    "    return probDict\r\n",
    "    \r\n",
    "```\r\n",
    "\r\n",
    "</details>\r\n",
    " \r\n"
   ],
   "metadata": {}
  },
  {
   "cell_type": "markdown",
   "source": [
    "<hr>\n",
    "<h2>The last exercise!</h2>\n",
    "<p>Congratulations, you have completed your first lesson and hands-on lab in Python. However, there is one more thing you need to do. The Data Science community encourages sharing work. The best way to share and showcase your work is to share it on GitHub. By sharing your notebook on GitHub you are not only building your reputation with fellow data scientists, but you can also show it off when applying for a job. Even though this was your first piece of work, it is never too early to start building good habits. So, please read and follow <a href=\"https://cognitiveclass.ai/blog/data-scientists-stand-out-by-sharing-your-notebooks/\" target=\"_blank\">this article</a> to learn how to share your work.\n",
    "<hr>\n"
   ],
   "metadata": {}
  },
  {
   "cell_type": "markdown",
   "source": [
    "## Author\n",
    "\n",
    "<a href=\"https://www.linkedin.com/in/joseph-s-50398b136/\" target=\"_blank\">Joseph Santarcangelo</a>\n",
    "\n",
    "## Other contributors\n",
    "\n",
    "<a href=\"www.linkedin.com/in/jiahui-mavis-zhou-a4537814a\">Mavis Zhou</a>\n",
    "\n",
    "## Change Log\n",
    "\n",
    "| Date (YYYY-MM-DD) | Version | Changed By | Change Description                                                                                                     |\n",
    "| ----------------- | ------- | ---------- | ---------------------------------------------------------------------------------------------------------------------- |\n",
    "| 2020-08-26        | 0.2     | Lavanya    | Moved lab to course repo in GitLab                                                                                     |\n",
    "| 2020 -09 -04      | 0.2     | Arjun      | Under What is a function, added code/text to further demonstrate the functionality of the return statement             |\n",
    "| 2020 -09 -04      | 0.2     | Arjun      | Under Global Variables, modify the code block to try and print ‘internal_var’ - So a nameError message can be observed |\n",
    "| 2020 -09 -04      | 0.2     | Arjun      | Added section Collections and Functions                                                                                |\n",
    "| 2020 -09 -04      | 0.2     | Arjun      | Added exercise “Probability Bag”                                                                                       |\n",
    "\n",
    "<hr/>\n",
    "\n",
    "## <h3 align=\"center\"> © IBM Corporation 2020. All rights reserved. <h3/>\n"
   ],
   "metadata": {}
  }
 ],
 "metadata": {
  "kernelspec": {
   "name": "python3",
   "display_name": "Python 3.9.1 64-bit (system)"
  },
  "language_info": {
   "codemirror_mode": {
    "name": "ipython",
    "version": 3
   },
   "file_extension": ".py",
   "mimetype": "text/x-python",
   "name": "python",
   "nbconvert_exporter": "python",
   "pygments_lexer": "ipython3",
   "version": "3.9.1"
  },
  "interpreter": {
   "hash": "984caa43a5d61c94098e65d7ad9101511910240d675b66c8906d17a13235cca5"
  }
 },
 "nbformat": 4,
 "nbformat_minor": 4
}